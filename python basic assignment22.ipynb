{
 "cells": [
  {
   "cell_type": "code",
   "execution_count": 1,
   "id": "4b03e3fa",
   "metadata": {},
   "outputs": [
    {
     "name": "stdout",
     "output_type": "stream",
     "text": [
      "iNeuron\n"
     ]
    }
   ],
   "source": [
    "#1. What is the result of the code, and explain?\n",
    "X = 'iNeuron'\n",
    "def func():\n",
    "    print(X)\n",
    "func()"
   ]
  },
  {
   "cell_type": "code",
   "execution_count": null,
   "id": "479ec191",
   "metadata": {},
   "outputs": [],
   "source": [
    "when a variable is declared outside a function it is accessible everywhere in the program.\n",
    "x=iNeuron"
   ]
  },
  {
   "cell_type": "code",
   "execution_count": 2,
   "id": "88ac1724",
   "metadata": {},
   "outputs": [
    {
     "name": "stdout",
     "output_type": "stream",
     "text": [
      "iNeuron\n"
     ]
    }
   ],
   "source": [
    "#2. What is the result of the code, and explain?\n",
    "X = 'iNeuron'\n",
    "def func():\n",
    "    X=\"NI!\"\n",
    "func()\n",
    "print(X)"
   ]
  },
  {
   "cell_type": "code",
   "execution_count": null,
   "id": "eaf1b3e8",
   "metadata": {},
   "outputs": [],
   "source": [
    "variables which are initialized within a function belong only to that paricular function.so, X value inside the function is NI!\n",
    "it doesnot change the value of global variable\n",
    "x remains 'iNeuron' outside the function "
   ]
  },
  {
   "cell_type": "code",
   "execution_count": 2,
   "id": "2479afc6",
   "metadata": {},
   "outputs": [
    {
     "name": "stdout",
     "output_type": "stream",
     "text": [
      "NI!\n",
      "iNeuron\n"
     ]
    }
   ],
   "source": [
    "#3. What does this code print, and why?\n",
    "X = 'iNeuron'\n",
    "def func():\n",
    "    X=\"NI!\"\n",
    "    print(X)\n",
    "func()\n",
    "print(X)"
   ]
  },
  {
   "cell_type": "code",
   "execution_count": null,
   "id": "b8eb449c",
   "metadata": {},
   "outputs": [],
   "source": [
    "when X is printed inside it first searches whether any local variable is there.If not then only it goes for global.\n",
    "Inside the function x=NI!\n",
    "though same variable name X is used,it is a local variable does not reflect the value outside the function\n"
   ]
  },
  {
   "cell_type": "code",
   "execution_count": 3,
   "id": "4cf8b8da",
   "metadata": {},
   "outputs": [
    {
     "name": "stdout",
     "output_type": "stream",
     "text": [
      "NI!\n",
      "NI!\n"
     ]
    }
   ],
   "source": [
    "#4. What does this code print, and why?\n",
    "X = 'iNeuron'\n",
    "def func():\n",
    "    global X\n",
    "    X=\"NI!\"\n",
    "    print(X)\n",
    "func()\n",
    "print(X)"
   ]
  },
  {
   "cell_type": "code",
   "execution_count": null,
   "id": "099cfaad",
   "metadata": {},
   "outputs": [],
   "source": [
    "when global keyword is used in the function then value will be carried even outside the function.it behaves like a global \n",
    "variable"
   ]
  },
  {
   "cell_type": "code",
   "execution_count": 4,
   "id": "743c7115",
   "metadata": {},
   "outputs": [
    {
     "name": "stdout",
     "output_type": "stream",
     "text": [
      "NI\n",
      "iNeuron\n"
     ]
    }
   ],
   "source": [
    "#5. What about this code—what’s the output, and why?\n",
    "X ='iNeuron'\n",
    "def func():\n",
    "    X ='NI'\n",
    "    def nested():\n",
    "        print(X)\n",
    "    nested()\n",
    "func()\n",
    "print(X)"
   ]
  },
  {
   "cell_type": "code",
   "execution_count": null,
   "id": "f8bbbcd9",
   "metadata": {},
   "outputs": [],
   "source": [
    "in nested() function x searches if any X is there locally,then in the main function,then globally that is outside the function.\n",
    "here in main function func() X variable is declared. so, in nested function X=NI! but it is local variable does not reflect\n",
    "outside the function\n",
    "so,outside the function X=iNeuron\n"
   ]
  },
  {
   "cell_type": "code",
   "execution_count": 5,
   "id": "1a1f754c",
   "metadata": {},
   "outputs": [
    {
     "name": "stdout",
     "output_type": "stream",
     "text": [
      "Spam\n"
     ]
    }
   ],
   "source": [
    "#6. How about this code: what is its output in Python 3, and explain?\n",
    "def func():\n",
    "    X = 'NI'\n",
    "    def nested():\n",
    "        nonlocal X\n",
    "        X = 'Spam'\n",
    "    nested()\n",
    "    print(X)\n",
    "func()"
   ]
  },
  {
   "cell_type": "code",
   "execution_count": null,
   "id": "0d0360ed",
   "metadata": {},
   "outputs": [],
   "source": [
    "nonlocal keyword is used to in nested functions to reference  the variable in parent function.\n",
    "X value changes from NI to Spam"
   ]
  }
 ],
 "metadata": {
  "kernelspec": {
   "display_name": "Python 3 (ipykernel)",
   "language": "python",
   "name": "python3"
  },
  "language_info": {
   "codemirror_mode": {
    "name": "ipython",
    "version": 3
   },
   "file_extension": ".py",
   "mimetype": "text/x-python",
   "name": "python",
   "nbconvert_exporter": "python",
   "pygments_lexer": "ipython3",
   "version": "3.10.9"
  }
 },
 "nbformat": 4,
 "nbformat_minor": 5
}
